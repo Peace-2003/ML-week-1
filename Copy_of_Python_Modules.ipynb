{
  "nbformat": 4,
  "nbformat_minor": 0,
  "metadata": {
    "colab": {
      "provenance": []
    },
    "kernelspec": {
      "name": "python3",
      "display_name": "Python 3"
    },
    "language_info": {
      "name": "python"
    }
  },
  "cells": [
    {
      "cell_type": "markdown",
      "source": [
        "# Numpy Implementation"
      ],
      "metadata": {
        "id": "nKMH5Y1T06vH"
      }
    },
    {
      "cell_type": "code",
      "execution_count": null,
      "metadata": {
        "colab": {
          "base_uri": "https://localhost:8080/"
        },
        "id": "MM8X0T-p06HB",
        "outputId": "6489ecf6-1155-4ff7-f4ad-749682e0ede1"
      },
      "outputs": [
        {
          "output_type": "stream",
          "name": "stdout",
          "text": [
            "Passed\n"
          ]
        }
      ],
      "source": [
        "import numpy as np\n",
        "# Create a 2D Numpy array of size 1x3 with elements of your choice\n",
        "arr1=np.array([[1,2,3]])\n",
        "\n",
        "# Create a Numpy array of length 50 with zeroes as its elements\n",
        "arr2=np.zeros(50)\n",
        "\n",
        "#Create a Numpy array of length 3x2 with elements of your choice\n",
        "arr3=np.array([[1,2],[3,4],[5,6]])\n",
        "\n",
        "arr4=np.dot(arr1, arr3)\n",
        "\n",
        "#Change 5th element of arr2 to a different number\n",
        "arr2[4]=5\n",
        "\n",
        "if np.shape(arr4)==(1,2) and arr2[4]!=0:\n",
        "  print(\"Passed\")\n",
        "else:\n",
        "  print(\"Fail\")"
      ]
    },
    {
      "cell_type": "code",
      "source": [
        "import numpy as np\n",
        "\n",
        "#Task: Perform the dot product of I and 9I+1 using numpy, here I is referred to as an 3x3 Identity matrix.\n",
        "\n",
        "#Creating Identity Matrix\n",
        "I = np.eye(3)\n",
        "\n",
        "#Calculating 9I+1\n",
        "result = 9*I + 1\n",
        "\n",
        "#Performing dot product\n",
        "dot_product = np.dot(I, result)\n",
        "\n",
        "#Printing the result\n",
        "print(dot_product)"
      ],
      "metadata": {
        "id": "KNTXZFd13rgE",
        "colab": {
          "base_uri": "https://localhost:8080/"
        },
        "outputId": "474f5074-ba7c-44d2-f4bd-1b1296b2c117"
      },
      "execution_count": null,
      "outputs": [
        {
          "output_type": "stream",
          "name": "stdout",
          "text": [
            "[[10.  1.  1.]\n",
            " [ 1. 10.  1.]\n",
            " [ 1.  1. 10.]]\n"
          ]
        }
      ]
    },
    {
      "cell_type": "markdown",
      "source": [
        "# Pandas Implementation"
      ],
      "metadata": {
        "id": "rRrOxN-6FXAb"
      }
    },
    {
      "cell_type": "code",
      "source": [
        "import pandas as pd\n",
        "\n",
        "## Create a DataFrame from a dictionary\n",
        "data = {\n",
        "    'Name': ['Ramesh', 'Mahesh', 'Suresh'],\n",
        "    'Age': [25, 30, 35],\n",
        "    'City': ['Bangalore', 'Mumbai', 'Delhi']\n",
        "}\n",
        "\n",
        "directory = pd.DataFrame(data)\n",
        "\n",
        "#Display the first 2 rows of the data frame\n",
        "print(directory.head(2))\n",
        "\n",
        "#Print the age column\n",
        "print(directory['Age'])\n",
        "\n",
        "#Filter rows where age is greater than 26\n",
        "filtered_rows = directory[directory['Age'] > 26]\n",
        "print(filtered_rows)\n",
        "\n",
        "#Add a new column 'Country' with the value 'India' for all rows\n",
        "directory['Country'] = 'India'\n",
        "print(directory)\n",
        "\n",
        "data1 = {\n",
        "    'Name': ['Ramesh', 'Mahesh', 'Suresh'],\n",
        "    'Age': [25, None, 35],\n",
        "    'City': ['Bangalore', 'Mumbai', 'Delhi']\n",
        "}\n",
        "\n",
        "df2= pd.DataFrame(data1)\n",
        "\n",
        "# Fill missing values in the 'Age' column with the mean age\n",
        "df2['Age'].fillna(df2['Age'].mean(), inplace=True)\n"
      ],
      "metadata": {
        "id": "EaoIVtKIFenB",
        "colab": {
          "base_uri": "https://localhost:8080/"
        },
        "outputId": "7384ccf2-aa1c-47da-d2de-2b7675ddb975"
      },
      "execution_count": null,
      "outputs": [
        {
          "output_type": "stream",
          "name": "stdout",
          "text": [
            "     Name  Age       City\n",
            "0  Ramesh   25  Bangalore\n",
            "1  Mahesh   30     Mumbai\n",
            "0    25\n",
            "1    30\n",
            "2    35\n",
            "Name: Age, dtype: int64\n",
            "     Name  Age    City\n",
            "1  Mahesh   30  Mumbai\n",
            "2  Suresh   35   Delhi\n",
            "     Name  Age       City Country\n",
            "0  Ramesh   25  Bangalore   India\n",
            "1  Mahesh   30     Mumbai   India\n",
            "2  Suresh   35      Delhi   India\n"
          ]
        }
      ]
    },
    {
      "cell_type": "markdown",
      "source": [
        "# Matplotlib Implementation"
      ],
      "metadata": {
        "id": "uay3H4C8cboE"
      }
    },
    {
      "cell_type": "code",
      "source": [
        "import matplotlib.pyplot as plt\n",
        "import numpy as np\n",
        "\n",
        "\n",
        "\n",
        "xpoints=np.array([1,2,3,4])\n",
        "ypoints=np.array([2,4,6,8])\n",
        "\n",
        "#Plot these points without drawing a line\n",
        "plt.plot(xpoints, ypoints, 'o')\n",
        "\n",
        "#Plotting with marker: Plot these points with a marker(Star marker)\n",
        "plt.plot(xpoints, ypoints, '*')\n",
        "\n",
        "#Using fmt format, add circular marker,red color and Dashed line\n",
        "plt.plot(xpoints, ypoints, 'o--r')\n",
        "\n",
        "#Add xlabel,ylabel and title for the plot.\n",
        "plt.xlabel('X-axis')\n",
        "plt.ylabel('Y-axis')\n",
        "plt.title('My Plot')\n",
        "\n",
        "#Create a scatter plot for xpoints and ypoints\n",
        "plt.scatter(xpoints, ypoints)\n",
        "\n",
        "#Set color to the scatter plot. Blue,Green,Red and yellow color for each point respectively\n",
        "plt.scatter(xpoints, ypoints, c=['blue', 'green', 'red', 'yellow'])\n",
        "plt.show()"
      ],
      "metadata": {
        "colab": {
          "base_uri": "https://localhost:8080/",
          "height": 472
        },
        "id": "i4lccqVxcgE_",
        "outputId": "73e8ec48-0c17-4ff9-c685-2041fbf321b8"
      },
      "execution_count": null,
      "outputs": [
        {
          "output_type": "display_data",
          "data": {
            "text/plain": [
              "<Figure size 640x480 with 1 Axes>"
            ],
            "image/png": "[encoded data removed]"
          },
          "metadata": {}
        }
      ]
    },
    {
      "cell_type": "markdown",
      "source": [
        "# Miscellaneous Modules Implementation"
      ],
      "metadata": {
        "id": "pfe2Fv2tgKq5"
      }
    },
    {
      "cell_type": "code",
      "source": [],
      "metadata": {
        "id": "uwET4NZGSCru"
      },
      "execution_count": null,
      "outputs": []
    },
    {
      "cell_type": "code",
      "source": [
        "import random\n",
        "import numpy as np\n",
        "\n",
        "# Set the seed of random to 20\n",
        "random.seed(20)\n",
        "\n",
        "arr1 = np.array([1, 24, 31, 45, 73, 81, 94, 25])\n",
        "\n",
        "# Using the random module pick 4 different random numbers from arr1 and return their sum\n",
        "selected_numbers = random.sample(list(arr1), 4)\n",
        "sum_of_selected = sum(selected_numbers)\n",
        "\n",
        "print(\"Selected numbers:\", selected_numbers)\n",
        "print(\"Sum of selected numbers:\", sum_of_selected)"
      ],
      "metadata": {
        "id": "a_bTz2PlgRah"
      },
      "execution_count": null,
      "outputs": []
    }
  ]
}